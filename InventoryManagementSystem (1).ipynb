{
  "nbformat": 4,
  "nbformat_minor": 0,
  "metadata": {
    "colab": {
      "name": "InventoryManagementSystem.ipynb",
      "provenance": [],
      "collapsed_sections": []
    },
    "kernelspec": {
      "name": "python3",
      "display_name": "Python 3"
    },
    "language_info": {
      "name": "python"
    }
  },
  "cells": [
    {
      "cell_type": "markdown",
      "metadata": {
        "id": "_wbDt58aiDog"
      },
      "source": [
        "### Read invetory"
      ]
    },
    {
      "cell_type": "code",
      "metadata": {
        "id": "3SxqRzTwWfLP"
      },
      "source": [
        "import json\n",
        "\n",
        "fd=open(\"records.json\",'r')\n",
        "records_data=fd.read()\n",
        "fd.close()\n",
        "records=json.loads(records_data)"
      ],
      "execution_count": 78,
      "outputs": []
    },
    {
      "cell_type": "code",
      "metadata": {
        "colab": {
          "base_uri": "https://localhost:8080/",
          "height": 86
        },
        "id": "znKxj4N8Y6Mf",
        "outputId": "f00ae038-9d51-4631-f3df-ac6cf27cb5a4"
      },
      "source": [
        "records_data"
      ],
      "execution_count": 79,
      "outputs": [
        {
          "output_type": "execute_result",
          "data": {
            "application/vnd.google.colaboratory.intrinsic+json": {
              "type": "string"
            },
            "text/plain": [
              "'{\"1001\": {\"name\": \"Choco Cake\", \"qn\": 34, \"pr\": 100}, \"1002\": {\"name\": \"Milk Cake\", \"pr\": 800, \"qn\": 100}, \"1003\": {\"name\": \"Drink\", \"pr\": 85, \"qn\": 100}, \"1004\": {\"name\": \"Candy\", \"pr\": 5, \"qn\": 1000}, \"1005\": {\"name\": \"Pen\", \"pr\": 20, \"qn\": 100}, \"1006\": {\"name\": \"Phone\", \"pr\": 50000, \"qn\": 10}, \"1007\": {\"name\": \"Mic\", \"pr\": 1500, \"qn\": 0}, \"1008\": {\"name\": \"Case\", \"pr\": 599, \"qn\": 5}, \"1009\": {\"name\": \"Keyboard\", \"pr\": 1999, \"qn\": 10}, \"2001\": {\"name\": \"ice cream\", \"pr\": 20, \"qn\": 0}, \"2002\": {\"name\": \"pastry\", \"pr\": 50, \"qn\": 0}, \"2003\": {\"name\": \"pasta\", \"pr\": 50, \"qn\": 13}, \"2004\": {\"name\": \"toothbrush\", \"pr\": 10, \"qn\": 20}, \"2005\": {\"name\": \"earphone\", \"pr\": 500, \"qn\": 10}}'"
            ]
          },
          "metadata": {},
          "execution_count": 79
        }
      ]
    },
    {
      "cell_type": "code",
      "metadata": {
        "colab": {
          "base_uri": "https://localhost:8080/"
        },
        "id": "06FCn5-TZMlD",
        "outputId": "cdc8699d-fb7c-49e3-b446-72a9b6f0cc6f"
      },
      "source": [
        "records"
      ],
      "execution_count": 80,
      "outputs": [
        {
          "output_type": "execute_result",
          "data": {
            "text/plain": [
              "{'1001': {'name': 'Choco Cake', 'pr': 100, 'qn': 34},\n",
              " '1002': {'name': 'Milk Cake', 'pr': 800, 'qn': 100},\n",
              " '1003': {'name': 'Drink', 'pr': 85, 'qn': 100},\n",
              " '1004': {'name': 'Candy', 'pr': 5, 'qn': 1000},\n",
              " '1005': {'name': 'Pen', 'pr': 20, 'qn': 100},\n",
              " '1006': {'name': 'Phone', 'pr': 50000, 'qn': 10},\n",
              " '1007': {'name': 'Mic', 'pr': 1500, 'qn': 0},\n",
              " '1008': {'name': 'Case', 'pr': 599, 'qn': 5},\n",
              " '1009': {'name': 'Keyboard', 'pr': 1999, 'qn': 10},\n",
              " '2001': {'name': 'ice cream', 'pr': 20, 'qn': 0},\n",
              " '2002': {'name': 'pastry', 'pr': 50, 'qn': 0},\n",
              " '2003': {'name': 'pasta', 'pr': 50, 'qn': 13},\n",
              " '2004': {'name': 'toothbrush', 'pr': 10, 'qn': 20},\n",
              " '2005': {'name': 'earphone', 'pr': 500, 'qn': 10}}"
            ]
          },
          "metadata": {},
          "execution_count": 80
        }
      ]
    },
    {
      "cell_type": "markdown",
      "metadata": {
        "id": "DAR95zMwHtu6"
      },
      "source": [
        "### Add new items \n"
      ]
    },
    {
      "cell_type": "code",
      "metadata": {
        "colab": {
          "base_uri": "https://localhost:8080/"
        },
        "id": "Ppa7OvP2ZrtZ",
        "outputId": "eec53c6b-40f9-41c6-ae33-4876e0ddb698"
      },
      "source": [
        "prod_id=str(input(\"Enter product id : \"))\n",
        "name=str(input(\"Enter name : \"))\n",
        "pr=int(input(\"Enter price : \"))\n",
        "qn=int(input(\"Enter quantity : \"))\n",
        "\n",
        "records[prod_id]={'name':name,'pr':pr,'qn':qn}\n",
        "\n",
        "js=json.dumps(records)\n",
        "\n",
        "fd=open(\"records.json\",\"w\")\n",
        "fd.write(js)\n",
        "fd.close()"
      ],
      "execution_count": 81,
      "outputs": [
        {
          "name": "stdout",
          "output_type": "stream",
          "text": [
            "Enter product id : 2006\n",
            "Enter name : bluetooth\n",
            "Enter price : 1000\n",
            "Enter quantity : 12\n"
          ]
        }
      ]
    },
    {
      "cell_type": "code",
      "metadata": {
        "colab": {
          "base_uri": "https://localhost:8080/"
        },
        "id": "-Q666zWtatp5",
        "outputId": "846d4258-8bc8-4a3e-97f4-c8d12063f9d0"
      },
      "source": [
        "fd=open(\"records.json\",'r')\n",
        "records_data=fd.read()\n",
        "fd.close()\n",
        "records=json.loads(records_data)\n",
        "records"
      ],
      "execution_count": 82,
      "outputs": [
        {
          "output_type": "execute_result",
          "data": {
            "text/plain": [
              "{'1001': {'name': 'Choco Cake', 'pr': 100, 'qn': 34},\n",
              " '1002': {'name': 'Milk Cake', 'pr': 800, 'qn': 100},\n",
              " '1003': {'name': 'Drink', 'pr': 85, 'qn': 100},\n",
              " '1004': {'name': 'Candy', 'pr': 5, 'qn': 1000},\n",
              " '1005': {'name': 'Pen', 'pr': 20, 'qn': 100},\n",
              " '1006': {'name': 'Phone', 'pr': 50000, 'qn': 10},\n",
              " '1007': {'name': 'Mic', 'pr': 1500, 'qn': 0},\n",
              " '1008': {'name': 'Case', 'pr': 599, 'qn': 5},\n",
              " '1009': {'name': 'Keyboard', 'pr': 1999, 'qn': 10},\n",
              " '2001': {'name': 'ice cream', 'pr': 20, 'qn': 0},\n",
              " '2002': {'name': 'pastry', 'pr': 50, 'qn': 0},\n",
              " '2003': {'name': 'pasta', 'pr': 50, 'qn': 13},\n",
              " '2004': {'name': 'toothbrush', 'pr': 10, 'qn': 20},\n",
              " '2005': {'name': 'earphone', 'pr': 500, 'qn': 10},\n",
              " '2006': {'name': 'bluetooth', 'pr': 1000, 'qn': 12}}"
            ]
          },
          "metadata": {},
          "execution_count": 82
        }
      ]
    },
    {
      "cell_type": "markdown",
      "metadata": {
        "id": "5OH9pRaaeLWU"
      },
      "source": [
        "### purchase"
      ]
    },
    {
      "cell_type": "code",
      "metadata": {
        "colab": {
          "base_uri": "https://localhost:8080/"
        },
        "id": "yNBOswn0eayO",
        "outputId": "cdaade5a-a081-4d3e-eab3-edce86d1aa80"
      },
      "source": [
        "ui_product=str(input(\"Enter the product id : \"))\n",
        "ui_quantity=int(input(\"Enter the quantity : \"))\n",
        "customer_name=str(input(\"Enter customer name : \"))\n",
        "customer_mobile=str(input(\"Enter mobile number : \"))\n",
        "\n",
        "print(\"\\n******************************\")\n",
        "\n",
        "if(records[ui_product]['qn']-ui_quantity>=0):\n",
        " \n",
        "  print(\"    Your Reciept   \")\n",
        "  print(\"product : \",records[ui_product][\"name\"])\n",
        "  print(\"price : \",records[ui_product][\"pr\"])\n",
        "\n",
        "  print(\"Billing Amount : \",records[ui_product][\"pr\"]*ui_quantity)\n",
        "\n",
        "  records[ui_product]['qn']=records[ui_product]['qn']-ui_quantity\n",
        "else:\n",
        "  print(\"Sorry,We are out of stock!!\")\n",
        "  \n",
        "print(\"\\n******************************\")\n"
      ],
      "execution_count": 83,
      "outputs": [
        {
          "output_type": "stream",
          "name": "stdout",
          "text": [
            "Enter the product id : 2006\n",
            "Enter the quantity : 2\n",
            "Enter customer name : qrstuv\n",
            "Enter mobile number : 123456789\n",
            "\n",
            "******************************\n",
            "    Your Reciept   \n",
            "product :  bluetooth\n",
            "price :  1000\n",
            "Billing Amount :  2000\n",
            "\n",
            "******************************\n"
          ]
        }
      ]
    },
    {
      "cell_type": "markdown",
      "metadata": {
        "id": "o_2zZFGshABj"
      },
      "source": [
        "### update inventory"
      ]
    },
    {
      "cell_type": "code",
      "metadata": {
        "id": "gRUR4T2cgUFd"
      },
      "source": [
        "js=json.dumps(records)\n",
        "\n",
        "fd=open(\"records.json\",\"w\")\n",
        "fd.write(js)\n",
        "fd.close()"
      ],
      "execution_count": 84,
      "outputs": []
    },
    {
      "cell_type": "code",
      "metadata": {
        "colab": {
          "base_uri": "https://localhost:8080/"
        },
        "id": "HdXzRPC_hPY1",
        "outputId": "ee4a3606-431a-4e8d-fcd7-ff8d43f69492"
      },
      "source": [
        "records"
      ],
      "execution_count": 85,
      "outputs": [
        {
          "output_type": "execute_result",
          "data": {
            "text/plain": [
              "{'1001': {'name': 'Choco Cake', 'pr': 100, 'qn': 34},\n",
              " '1002': {'name': 'Milk Cake', 'pr': 800, 'qn': 100},\n",
              " '1003': {'name': 'Drink', 'pr': 85, 'qn': 100},\n",
              " '1004': {'name': 'Candy', 'pr': 5, 'qn': 1000},\n",
              " '1005': {'name': 'Pen', 'pr': 20, 'qn': 100},\n",
              " '1006': {'name': 'Phone', 'pr': 50000, 'qn': 10},\n",
              " '1007': {'name': 'Mic', 'pr': 1500, 'qn': 0},\n",
              " '1008': {'name': 'Case', 'pr': 599, 'qn': 5},\n",
              " '1009': {'name': 'Keyboard', 'pr': 1999, 'qn': 10},\n",
              " '2001': {'name': 'ice cream', 'pr': 20, 'qn': 0},\n",
              " '2002': {'name': 'pastry', 'pr': 50, 'qn': 0},\n",
              " '2003': {'name': 'pasta', 'pr': 50, 'qn': 13},\n",
              " '2004': {'name': 'toothbrush', 'pr': 10, 'qn': 20},\n",
              " '2005': {'name': 'earphone', 'pr': 500, 'qn': 10},\n",
              " '2006': {'name': 'bluetooth', 'pr': 1000, 'qn': 10}}"
            ]
          },
          "metadata": {},
          "execution_count": 85
        }
      ]
    },
    {
      "cell_type": "markdown",
      "metadata": {
        "id": "N3I5x9iqiL31"
      },
      "source": [
        "### Sales"
      ]
    },
    {
      "cell_type": "code",
      "metadata": {
        "colab": {
          "base_uri": "https://localhost:8080/"
        },
        "id": "7p1PZUf0iAvs",
        "outputId": "f848a91c-6d37-4932-d14f-de74f85dd30c"
      },
      "source": [
        "{'product_id':ui_product,\"quantity\":ui_quantity,\"amount\":records[ui_product]['pr']*ui_quantity,\"customer name\":customer_name,\"customer mobile\":customer_mobile}"
      ],
      "execution_count": 86,
      "outputs": [
        {
          "output_type": "execute_result",
          "data": {
            "text/plain": [
              "{'amount': 2000,\n",
              " 'customer mobile': '123456789',\n",
              " 'customer name': 'qrstuv',\n",
              " 'product_id': '2006',\n",
              " 'quantity': 2}"
            ]
          },
          "metadata": {},
          "execution_count": 86
        }
      ]
    },
    {
      "cell_type": "code",
      "metadata": {
        "id": "ITn3ny5gSn6Y"
      },
      "source": [
        "#sales={}"
      ],
      "execution_count": 87,
      "outputs": []
    },
    {
      "cell_type": "code",
      "metadata": {
        "id": "y5hOp48sjUMe"
      },
      "source": [
        "sales[len(sales)+1]={'product_id':ui_product,\"quantity\":ui_quantity,\"amount\":records[ui_product]['pr']*ui_quantity,\"customer name\":customer_name,\"customer mobile\":customer_mobile}"
      ],
      "execution_count": 88,
      "outputs": []
    },
    {
      "cell_type": "code",
      "metadata": {
        "id": "8kW54oL5mcrP"
      },
      "source": [
        "js=json.dumps(sales)\n",
        "\n",
        "fd=open(\"sales.json\",'w')\n",
        "fd.write(js)\n",
        "fd.close()"
      ],
      "execution_count": 89,
      "outputs": []
    },
    {
      "cell_type": "markdown",
      "metadata": {
        "id": "FqtIbiatnLz_"
      },
      "source": [
        "Read sales"
      ]
    },
    {
      "cell_type": "code",
      "metadata": {
        "id": "ljbMeWvJnMNh"
      },
      "source": [
        "import json\n",
        "\n",
        "fd=open(\"sales.json\",'r')\n",
        "sales_data=fd.read()\n",
        "fd.close()\n",
        "sale=json.loads(sales_data)"
      ],
      "execution_count": 90,
      "outputs": []
    },
    {
      "cell_type": "code",
      "metadata": {
        "colab": {
          "base_uri": "https://localhost:8080/"
        },
        "id": "n0lMPymnnPuE",
        "outputId": "60570270-9e24-4994-8369-306445b69084"
      },
      "source": [
        "sale"
      ],
      "execution_count": 91,
      "outputs": [
        {
          "output_type": "execute_result",
          "data": {
            "text/plain": [
              "{'1': {'amount': 100,\n",
              "  'customer mobile': '16874687',\n",
              "  'customer name': 'abcde',\n",
              "  'product_id': '2003',\n",
              "  'quantity': 2},\n",
              " '2': {'amount': 1500,\n",
              "  'customer mobile': '163874968',\n",
              "  'customer name': 'jklmnop',\n",
              "  'product_id': '2005',\n",
              "  'quantity': 3},\n",
              " '3': {'amount': 2000,\n",
              "  'customer mobile': '123456789',\n",
              "  'customer name': 'qrstuv',\n",
              "  'product_id': '2006',\n",
              "  'quantity': 2}}"
            ]
          },
          "metadata": {},
          "execution_count": 91
        }
      ]
    }
  ]
}